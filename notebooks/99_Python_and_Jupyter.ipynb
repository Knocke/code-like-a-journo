{
 "cells": [
  {
   "cell_type": "markdown",
   "metadata": {
    "deletable": true,
    "editable": true
   },
   "source": [
    "# Python und Jupyter "
   ]
  },
  {
   "cell_type": "markdown",
   "metadata": {
    "collapsed": false,
    "deletable": true,
    "editable": true
   },
   "source": [
    "![](static/python.gif)"
   ]
  },
  {
   "cell_type": "markdown",
   "metadata": {
    "deletable": true,
    "editable": true
   },
   "source": [
    "## Introduction to Python\n",
    "\n",
    "> https://tutorial.djangogirls.org/en/python_introduction/\n",
    "\n",
    "> Part of this chapter is based on tutorials by Geek Girls Carrots (https://github.com/ggcarrots/django-carrots).\n",
    "\n",
    "> This part is covered in the video [Python Basics: Integers, Strings, Lists, Variables and Errors](https://www.youtube.com/watch?v=MO63L4s-20U)."
   ]
  },
  {
   "cell_type": "markdown",
   "metadata": {
    "deletable": true,
    "editable": true
   },
   "source": [
    "** Let's write some code!**\n",
    "\n",
    "## Python prompt \n",
    "\n",
    "To start playing with Python, we need to open up a command line on your computer. You should already know how to do that – you learned it in the Intro to Command Line chapter.\n",
    "\n",
    "Once you're ready, follow the instructions below.\n",
    "\n",
    "We want to open up a Python console, so type in python on Windows or python3 on Mac OS/Linux and hit enter.\n",
    "\n",
    "**command-line**\n",
    "```\n",
    "$ python3\n",
    "Python 3.5.1 (...)\n",
    "Type \"help\", \"copyright\", \"credits\" or \"license\" for more information.\n",
    ">>>\n",
    "```"
   ]
  },
  {
   "cell_type": "markdown",
   "metadata": {
    "deletable": true,
    "editable": true
   },
   "source": [
    "## Your first Python command!\n",
    "\n",
    "After running the Python command, the prompt changed to >>>. For us this means that for now we may only use commands in the Python language. You don't have to type in >>> – Python will do that for you.\n",
    "\n",
    "If you want to exit the Python console at any point, just type exit() or use the shortcut Ctrl + Z for Windows and Ctrl + D for Mac/Linux. Then you won't see >>> any longer.\n",
    "\n",
    "For now, we don't want to exit the Python console. We want to learn more about it. Let's start with something really simple. For example, try typing some math, like 2 + 3 and hit enter.\n",
    "\n",
    "**command-line**\n",
    "```\n",
    ">>> 2 + 3\n",
    "5\n",
    "```\n",
    "\n",
    "As you can see, Python is a great calculator. If you're wondering what else you can do…"
   ]
  },
  {
   "cell_type": "markdown",
   "metadata": {
    "deletable": true,
    "editable": true
   },
   "source": [
    "## Strings\n",
    "\n",
    "How about your name? Type your first name in quotes like this:\n",
    "\n",
    "**command-line**\n",
    "```\n",
    ">>> \"Ola\"\n",
    "'Ola'\n",
    "```\n",
    "\n",
    "You've now created your first string! It's a sequence of characters that can be processed by a computer. The string must always begin and end with the same character. This may be single (') or double (\") quotes (there is no difference!) The quotes tell Python that what's inside of them is a string.\n",
    "\n",
    "Strings can be strung together. Try this:\n",
    "\n",
    "**command-line**\n",
    "```\n",
    ">>> \"Hi there \" + \"Ola\"\n",
    "'Hi there Ola'\n",
    "```\n",
    "\n",
    "You can also multiply strings with a number:\n",
    "\n",
    "**command-line**\n",
    "```\n",
    ">>> \"Ola\" * 3\n",
    "'OlaOlaOla'\n",
    "```\n",
    "\n",
    "Nice, huh? To see your name in uppercase letters, simply type:\n",
    "\n",
    "**command-line**\n",
    "```\n",
    ">>> \"Ola\".upper()\n",
    "'OLA'\n",
    "```\n",
    "\n",
    "You just used the upper method on your string! A method (like upper()) is a sequence of instructions that Python has to perform on a given object (\"Ola\") once you call it.\n",
    "\n",
    "If you want to know the number of letters contained in your name, there is a function for that too!\n",
    "\n",
    "** command-line **\n",
    "```\n",
    ">>> len(\"Ola\")\n",
    "3\n",
    "```\n",
    "\n",
    "Wonder why sometimes you call functions with a . at the end of a string (like \"Ola\".upper()) and sometimes you first call a function and place the string in parentheses? Well, in some cases, functions belong to objects, like upper(), which can only be performed on strings. In this case, we call the function a method. Other times, functions don't belong to anything specific and can be used on different types of objects, just like len(). That's why we're giving \"Ola\" as a parameter to the len function."
   ]
  },
  {
   "cell_type": "markdown",
   "metadata": {
    "deletable": true,
    "editable": true
   },
   "source": [
    "## Summary\n",
    "\n",
    "OK, enough of strings. So far you've learned about:\n",
    "\n",
    "- the prompt – typing commands (code) into the Python prompt results in answers in Python\n",
    "- numbers and strings – in Python numbers are used for math and strings for text objects\n",
    "- operators – like + and *, combine values to produce a new one\n",
    "- functions – like upper() and len(), perform actions on objects.\n",
    "\n",
    "These are the basics of every programming language you learn. Ready for something harder? We bet you are!"
   ]
  },
  {
   "cell_type": "markdown",
   "metadata": {
    "deletable": true,
    "editable": true
   },
   "source": [
    "## Errors"
   ]
  },
  {
   "cell_type": "code",
   "execution_count": 27,
   "metadata": {
    "collapsed": false,
    "deletable": true,
    "editable": true
   },
   "outputs": [
    {
     "data": {
      "text/html": [
       "<img src=\"static/minions.jpg\"/>"
      ],
      "text/plain": [
       "<IPython.core.display.Image object>"
      ]
     },
     "metadata": {},
     "output_type": "display_data"
    }
   ],
   "source": [
    "display(Image(url='static/minions.jpg'), width=50)"
   ]
  },
  {
   "cell_type": "markdown",
   "metadata": {
    "deletable": true,
    "editable": true
   },
   "source": [
    "Let's try something new. Can we get the length of a number the same way we could find out the length of our name? Type in len(304023) and hit enter:\n",
    "\n",
    "** command-line**\n",
    "```\n",
    ">>> len(304023)\n",
    "Traceback (most recent call last):\n",
    "  File \"<stdin>\", line 1, in <module>\n",
    "TypeError: object of type 'int' has no len()```\n",
    "\n",
    "We got our first error! It says that objects of type \"int\" (integers, whole numbers) have no length. So what can we do now? Maybe we can write our number as a string? Strings have a length, right?\n",
    "\n",
    "**command-line**\n",
    "```\n",
    ">>> len(str(304023))\n",
    "6\n",
    "```\n",
    "\n",
    "It worked! We used the str function inside of the len function. str() converts everything to strings.\n",
    "\n",
    "- The str function converts things into strings\n",
    "- The int function converts things into integers\n",
    "\n",
    "Important: we can convert numbers into text, but we can't necessarily convert text into numbers – what would int('hello') be anyway?"
   ]
  },
  {
   "cell_type": "markdown",
   "metadata": {
    "deletable": true,
    "editable": true
   },
   "source": [
    "## Variables\n",
    "\n",
    "An important concept in programming is variables. A variable is nothing more than a name for something so you can use it later. Programmers use these variables to store data, make their code more readable and so they don't have to keep remembering what things are.\n",
    "\n",
    "Let's say we want to create a new variable called name:\n",
    "\n",
    "**command-line**\n",
    "```\n",
    ">>> name = \"Ola\"\n",
    "```\n",
    "\n",
    "You see? It's easy! It's simply: name equals Ola.\n",
    "\n",
    "As you've noticed, your program didn't return anything like it did before. So how do we know that the variable actually exists? Simply enter name and hit enter:\n",
    "\n",
    "**command-line**\n",
    "```\n",
    ">>> name\n",
    "'Ola'\n",
    "``` \n",
    "\n",
    "Yippee! Your first variable! :) You can always change what it refers to:\n",
    "\n",
    "**command-line**\n",
    "```\n",
    ">>> name = \"Sonja\"\n",
    ">>> name\n",
    "'Sonja'\n",
    "```\n",
    "\n",
    "You can use it in functions too:\n",
    "\n",
    "**command-line**\n",
    "```\n",
    ">>> len(name)\n",
    "5\n",
    "``` \n",
    "\n",
    "Awesome, right? Of course, variables can be anything – numbers too! Try this:\n",
    "\n",
    "**command-line**\n",
    "```\n",
    ">>> a = 4\n",
    ">>> b = 6\n",
    ">>> a * b\n",
    "24\n",
    "``` \n",
    "\n",
    "But what if we used the wrong name? Can you guess what would happen? Let's try!\n",
    "\n",
    "**command-line**\n",
    "```\n",
    ">>> city = \"Tokyo\"\n",
    ">>> ctiy\n",
    "Traceback (most recent call last):\n",
    "  File \"<stdin>\", line 1, in <module>\n",
    "NameError: name 'ctiy' is not defined\n",
    "``` \n",
    "\n",
    "An error! As you can see, Python has different types of errors and this one is called a NameError. Python will give you this error if you try to use a variable that hasn't been defined yet. If you encounter this error later, check your code to see if you've mistyped any names.\n",
    "\n",
    "Play with this for a while and see what you can do!"
   ]
  },
  {
   "cell_type": "markdown",
   "metadata": {
    "deletable": true,
    "editable": true
   },
   "source": [
    "## The print function\n",
    "\n",
    "Try this:\n",
    "\n",
    "**command-line**\n",
    "```\n",
    ">>> name = 'Maria'\n",
    ">>> name\n",
    "'Maria'\n",
    ">>> print(name)\n",
    "Maria\n",
    "```\n",
    "\n",
    "When you just type name, the Python interpreter responds with the string representation of the variable 'name', which is the letters M-a-r-i-a, surrounded by single quotes, ''. When you say print(name), Python will \"print\" the contents of the variable to the screen, without the quotes, which is neater.\n",
    "\n",
    "As we'll see later, print() is also useful when we want to print things from inside functions, or when we want to print things on multiple lines."
   ]
  },
  {
   "cell_type": "markdown",
   "metadata": {
    "deletable": true,
    "editable": true
   },
   "source": [
    "## Save it! - Python in the Text Editor \n",
    "\n",
    "> This part is covered in the Python Basics: Saving files and \"If\" statement video.\n",
    "\n",
    "So far we've been writing all our python code in the interpreter, which limits us to entering one line of code at a time. Normal programs are saved in files and executed by our programming language interpreter or compiler. So far we've been running our programs one line at a time in the Python interpreter. We're going to need more than one line of code for the next few tasks, so we'll quickly need to:\n",
    "\n",
    "- Exit the Python interpreter\n",
    "- Open up our code editor of choice\n",
    "- Save some code into a new python file\n",
    "- Run it!\n",
    "\n",
    "To exit from the Python interpreter that we've been using, simply type the exit() function\n",
    "\n",
    "**command-line**\n",
    "```\n",
    ">>> exit()\n",
    "$\n",
    "``` \n",
    "\n",
    "This will put you back into the command prompt.\n",
    "\n",
    "Earlier, we picked out a code editor from the code editor section. We'll need to open the editor now and write some code into a new file:\n",
    "\n",
    "**editor**\n",
    "```\n",
    "print('Hello, Django girls!')\n",
    "```\n",
    "\n",
    "Now we need to save the file and give it a descriptive name. Let's call the file python_intro.py and save it to your desktop. We can name the file anything we want, but the important part here is to make sure the file ends in .py. The .py extension tells our operating system that this is a Python executable file and Python can run it.\n",
    "\n",
    "> Note You should notice one of the coolest thing about code editors: colors! In the Python console, everything was the same color; now you should see that the print function is a different color from the string. This is called \"syntax highlighting\", and it's a really useful feature when coding. The color of things will give you hints, such as unclosed strings or a typo in a keyword name (like the def in a function, which we'll see below). This is one of the reasons we use a code editor. :)\n",
    "\n",
    "With the file saved, it's time to run it! Using the skills you've learned in the command line section, use the terminal to change directories to the desktop."
   ]
  },
  {
   "cell_type": "markdown",
   "metadata": {
    "deletable": true,
    "editable": true
   },
   "source": [
    "### OS X\n",
    "\n",
    "On a Mac, the command will look something like this:\n",
    "\n",
    "**command-line**\n",
    "```\n",
    "$ cd ~/Desktop\n",
    "``` \n",
    "\n",
    "## Linux\n",
    "\n",
    "On Linux, it will be like this (the word \"Desktop\" might be translated to your local language):\n",
    "\n",
    "**command-line**\n",
    "```\n",
    "$ cd ~/Desktop\n",
    "``` \n",
    "\n",
    "## Windows\n",
    "\n",
    "And on Windows, it will be like this:\n",
    "\n",
    "**command-line**\n",
    "```\n",
    "> cd %HomePath%\\Desktop\n",
    "```"
   ]
  },
  {
   "cell_type": "markdown",
   "metadata": {
    "deletable": true,
    "editable": true
   },
   "source": [
    "## Run it! \n",
    "\n",
    "If you get stuck, just ask for help.\n",
    "\n",
    "Now use Python to execute the code in the file like this:\n",
    "\n",
    "**command-line**\n",
    "```\n",
    "$ python3 python_intro.py\n",
    "Hello, Django girls!\n",
    "\n",
    "> Note: on Windows 'python3' is not recognized as a command. Instead, use 'python' to execute the file:\n",
    "\n",
    "**command-line**\n",
    "```\n",
    "> python python_intro.py\n",
    "``` \n",
    "\n",
    "Alright! You just ran your first Python program that was saved to a file. Feel awesome?"
   ]
  },
  {
   "cell_type": "markdown",
   "metadata": {
    "deletable": true,
    "editable": true
   },
   "source": [
    "## Python in the Jupyter Notebook \n",
    "\n",
    "If you write your code in a text editor, there's the disadvantage that you can't write and test your code at the same time. That's why programmers have so called 'IDE's, integrated development environments. \n",
    "We will use a very cool tool named 'Jupyter Notebook'. \n",
    "\n",
    "It should be installed on your computers by now. You can start it by typing in your command-line:\n",
    "\n",
    "**command-line**\n",
    "```\n",
    "$ jupyter notebook \n",
    "```\n",
    "\n",
    "You will see a program starting in your command-line and your browser will open. There you can see the content of the folder that you were in when you started the notebook. "
   ]
  },
  {
   "cell_type": "code",
   "execution_count": 19,
   "metadata": {
    "collapsed": false,
    "deletable": true,
    "editable": true
   },
   "outputs": [
    {
     "data": {
      "text/html": [
       "<img src=\"static/content_jupyternotebook1.gif\"/>"
      ],
      "text/plain": [
       "<IPython.core.display.Image object>"
      ]
     },
     "metadata": {},
     "output_type": "display_data"
    }
   ],
   "source": [
    "display(Image(url='static/content_jupyternotebook1.gif'), width=100)"
   ]
  },
  {
   "cell_type": "markdown",
   "metadata": {
    "deletable": true,
    "editable": true
   },
   "source": [
    "**Klick on the 'new' button in the top right corner and choose python3 from the dropdown.**\n",
    "\n",
    "A new window is opened:  "
   ]
  },
  {
   "cell_type": "code",
   "execution_count": 26,
   "metadata": {
    "collapsed": false,
    "deletable": true,
    "editable": true
   },
   "outputs": [
    {
     "data": {
      "text/html": [
       "<img src=\"static/notebook.png\"/>"
      ],
      "text/plain": [
       "<IPython.core.display.Image object>"
      ]
     },
     "metadata": {},
     "output_type": "display_data"
    }
   ],
   "source": [
    "display(Image(url='static/notebook.png'), width=50)"
   ]
  },
  {
   "cell_type": "markdown",
   "metadata": {
    "deletable": true,
    "editable": true
   },
   "source": [
    "## What Is A Jupyter Notebook?\n",
    "\n",
    "> https://www.datacamp.com/community/tutorials/tutorial-jupyter-notebook#gs.8NqrzMk\n",
    "\n",
    "In this case, \"notebook\" or \"notebook documents\" denote documents that contain both code and rich text elements, such as figures, links, equations, ... Because of the mix of code and text elements, these documents are the ideal place to bring together an analysis description and its results as well as they can be executed perform the data analysis in real time.\n",
    "\n",
    "Jupyter notebooks are:\n",
    "- easy to share for example on GitHub\n",
    "- can make your analysis reproducible "
   ]
  },
  {
   "cell_type": "markdown",
   "metadata": {
    "deletable": true,
    "editable": true
   },
   "source": [
    "## Code \n",
    "In your Jupyter notebook you will see your first cell to put code in. \n",
    "\n",
    "```\n",
    "In []: \n",
    "``` \n",
    "\n",
    "Put some code in there for example: \n",
    "    \n",
    "``` \n",
    "print('Hello World!')\n",
    "``` \n",
    "\n",
    "and then 'run' it by pressing 'SHIFT' and 'ENTER' at the same time. \n"
   ]
  },
  {
   "cell_type": "code",
   "execution_count": 20,
   "metadata": {
    "collapsed": false,
    "deletable": true,
    "editable": true
   },
   "outputs": [
    {
     "name": "stdout",
     "output_type": "stream",
     "text": [
      "Hello World!\n"
     ]
    }
   ],
   "source": [
    "print('Hello World!')"
   ]
  },
  {
   "cell_type": "markdown",
   "metadata": {
    "deletable": true,
    "editable": true
   },
   "source": [
    "## Markdown "
   ]
  },
  {
   "cell_type": "code",
   "execution_count": 25,
   "metadata": {
    "collapsed": false,
    "deletable": true,
    "editable": true
   },
   "outputs": [
    {
     "data": {
      "text/html": [
       "<img src=\"static/code.png\"/>"
      ],
      "text/plain": [
       "<IPython.core.display.Image object>"
      ]
     },
     "metadata": {},
     "output_type": "display_data"
    }
   ],
   "source": [
    "display(Image(url='static/code.png'), width=50)"
   ]
  },
  {
   "cell_type": "markdown",
   "metadata": {
    "deletable": true,
    "editable": true
   },
   "source": [
    "> If you run a cell the Jupyter Notebook creates a new cell under the first one. If you want to add new cells on \n",
    "> top of this press 'ESC' and then 'a'  to add a new cell in front of the cell you're currently working at. "
   ]
  },
  {
   "cell_type": "markdown",
   "metadata": {
    "deletable": true,
    "editable": true
   },
   "source": [
    "In the top bar there's a dropdown menu, where you can switch between **Code**, **Markdown** and some other options. \n",
    "> The Keyboard Shortcut for this is 'ESC' and 'M' for 'Markdown. "
   ]
  },
  {
   "cell_type": "markdown",
   "metadata": {
    "deletable": true,
    "editable": true
   },
   "source": [
    "## What is Markdown?\n",
    "\n",
    "> http://t3n.de/news/eigentlich-markdown-478610/\n",
    "\n",
    "In the notebook you can choose to write text, that you can mark up with [Markdown](), a more simple way to markup text than good old HTML.\n",
    "\n",
    "If you need a big, fat headline, just write # in front of it: \n",
    "\n",
    "This line:  \n",
    "```\n",
    "# This is a headline\n",
    "``` \n",
    "gets displayed like this if you 'run' the cell with 'SHIFT'+'ENTER': \n",
    "\n",
    "# This is a headline\n",
    "\n",
    "Very helpful. "
   ]
  },
  {
   "cell_type": "markdown",
   "metadata": {
    "deletable": true,
    "editable": true
   },
   "source": [
    "## Saving a Notebook \n",
    "You can change the name of your notebook: On the top you should see 'Untitled'. Just click on that and you get a popup to rename it. \n",
    "    \n",
    "[Strg]+[S] (oder File: Save and Checkpoint ) saves your work. \n",
    "\n",
    "Then go to 'File - Close and Halt' to close it. \n",
    "\n",
    "> Use [alt]+[tab] to switch between open windows. In the **command-line** there is still a program running from jupyter notebook. \n",
    "> To stop this press 'CTR' + 'C' and confirm with 'y' for 'yes'. This will stop the notebook server and you can close the command-line with 'exit'.  "
   ]
  },
  {
   "cell_type": "markdown",
   "metadata": {
    "deletable": true,
    "editable": true
   },
   "source": [
    "## Start another jupyter notebook \n",
    "To continue please start another jupyter notebook and come back to your .ipynb file you just renamed. "
   ]
  },
  {
   "cell_type": "code",
   "execution_count": 30,
   "metadata": {
    "collapsed": false,
    "deletable": true,
    "editable": true
   },
   "outputs": [
    {
     "data": {
      "text/html": [
       "<img src=\"static/glitter.gif\"/>"
      ],
      "text/plain": [
       "<IPython.core.display.Image object>"
      ]
     },
     "metadata": {},
     "output_type": "display_data"
    }
   ],
   "source": [
    "display(Image(url='static/glitter.gif'), width=50)"
   ]
  },
  {
   "cell_type": "markdown",
   "metadata": {
    "deletable": true,
    "editable": true
   },
   "source": [
    "## Yay! \n",
    "\n",
    "We are getting somewhere. We got our notebook running, got our hands wet with the first python data types. Now we head to the data structures most needed when it comes to data handling: \n",
    "\n",
    "**Lists and dictionarys**"
   ]
  },
  {
   "cell_type": "markdown",
   "metadata": {
    "deletable": true,
    "editable": true
   },
   "source": [
    "## Lists\n",
    "\n",
    "Beside strings and integers, Python has all sorts of different types of objects. Now we're going to introduce one called list. Lists are exactly what you think they are: objects which are lists of other objects. :)\n",
    "\n",
    "Go ahead and create a list:\n",
    "\n",
    "```\n",
    ">>> []\n",
    "[]\n",
    "```\n",
    "\n",
    "Yes, this list is empty. Not very useful, right? Let's create a list of lottery numbers. We don't want to repeat ourselves all the time, so we will put it in a variable, too:\n",
    "\n",
    "```\n",
    ">>> lottery = [3, 42, 12, 19, 30, 59]```\n",
    "\n",
    "All right, we have a list! What can we do with it? Let's see how many lottery numbers there are in a list. Do you have any idea which function you should use for that? You know this already!\n",
    "\n",
    "```\n",
    ">>> len(lottery)\n",
    "6```\n",
    "Yes! len() can give you a number of objects in a list. Handy, right? Maybe we will sort it now:\n",
    "\n",
    "```\n",
    ">>> lottery.sort()```\n",
    "\n",
    "This doesn't return anything, it just changed the order in which the numbers appear in the list. Let's print it out again and see what happened:\n",
    "```\n",
    ">>> print(lottery)\n",
    "[3, 12, 19, 30, 42, 59]```\n",
    "\n",
    "As you can see, the numbers in your list are now sorted from the lowest to highest value. Congrats!\n",
    "\n",
    "Maybe we want to reverse that order? Let's do that!\n",
    "\n",
    "```\n",
    ">>> lottery.reverse()\n",
    ">>> print(lottery)\n",
    "[59, 42, 30, 19, 12, 3]```\n",
    "Easy, right? If you want to add something to your list, you can do this by typing this command:\n",
    "\n",
    "```\n",
    ">>> lottery.append(199)\n",
    ">>> print(lottery)\n",
    "[59, 42, 30, 19, 12, 3, 199]```\n",
    "\n",
    "If you want to show only the first number, you can do this by using indexes. An index is the number that says where in a list an item occurs. Programmers prefer to start counting at 0, so the first object in your list is at index 0, the next one is at 1, and so on. Try this:\n",
    "\n",
    "```\n",
    ">>> print(lottery[0])\n",
    "59\n",
    ">>> print(lottery[1])\n",
    "42\n",
    "```\n",
    "\n",
    "As you can see, you can access different objects in your list by using the list's name and the object's index inside of square brackets.\n",
    "\n",
    "To delete something from your list you will need to use indexes as we learned above and the pop() method. Let's try an example and reinforce what we learned previously; we will be deleting the first number of our list.\n",
    "\n",
    "```\n",
    ">>> print(lottery)\n",
    "[59, 42, 30, 19, 12, 3, 199]\n",
    ">>> print(lottery[0])\n",
    "59\n",
    ">>> lottery.pop(0)\n",
    "59\n",
    ">>> print(lottery)\n",
    "[42, 30, 19, 12, 3, 199]\n",
    "```\n",
    "\n",
    "That worked like a charm!\n",
    "\n",
    "For extra fun, try some other indexes: 6, 7, 1000, -1, -6 or -1000. See if you can predict the result before trying the command. Do the results make sense?\n",
    "\n",
    "You can find a list of all available list methods in this chapter of the Python documentation: https://docs.python.org/3/tutorial/datastructures.html"
   ]
  },
  {
   "cell_type": "markdown",
   "metadata": {
    "deletable": true,
    "editable": true
   },
   "source": [
    "## Dictionaries\n",
    "\n",
    "> This part is covered in the [Python Basics: Dictionaries](https://www.youtube.com/watch?v=ZX1CVvZLE6c) video.\n",
    "\n",
    "A dictionary is similar to a list, but you access values by looking up a key instead of a numeric index. A key can be any string or number. The syntax to define an empty dictionary is:\n",
    "\n",
    "```\n",
    ">>> {}\n",
    "{}\n",
    "```\n",
    "\n",
    "This shows that you just created an empty dictionary. Hurray!\n",
    "\n",
    "Now, try writing the following command (try substituting your own information, too):\n",
    "\n",
    "```\n",
    ">>> participant = {'name': 'Ola', 'country': 'Poland', 'favorite_numbers': [7, 42, 92]}```\n",
    "\n",
    "With this command, you just created a variable named participant with three key–value pairs:\n",
    "\n",
    "- The key name points to the value 'Ola' (a string object),\n",
    "- country points to 'Poland' (another string),\n",
    "- and favorite_numbers points to [7, 42, 92] (a list with three numbers in it).\n",
    "\n",
    "You can check the content of individual keys with this syntax:\n",
    "\n",
    "```\n",
    ">>> print(participant['name'])\n",
    "Ola\n",
    "```\n",
    "\n",
    "See, it's similar to a list. But you don't need to remember the index – just the name.\n",
    "\n",
    "What happens if we ask Python the value of a key that doesn't exist? Can you guess? Let's try it and see!\n",
    "\n",
    "```\n",
    ">>> participant['age']\n",
    "Traceback (most recent call last):\n",
    "  File \"<stdin>\", line 1, in <module>\n",
    "KeyError: 'age'\n",
    "```\n",
    "\n",
    "Look, another error! This one is a KeyError. Python is helpful and tells you that the key 'age' doesn't exist in this dictionary.\n",
    "\n",
    "When should you use a dictionary or a list? Well, that's a good point to ponder. Just have a solution in mind before looking at the answer in the next line.\n",
    "\n",
    "Do you just need an ordered sequence of items? Go for a list.\n",
    "Do you need to associate values with keys, so you can look them up efficiently (by key) later on? Use a dictionary.\n",
    "Dictionaries, like lists, are mutable, meaning that they can be changed after they are created. You can add new key–value pairs to a dictionary after it is created, like this:\n",
    "\n",
    "```\n",
    ">>> participant['favorite_language'] = 'Python'\n",
    "```\n",
    "\n",
    "Like lists, using the len() method on the dictionaries returns the number of key–value pairs in the dictionary. Go ahead and type in this command:\n",
    "\n",
    "```\n",
    ">>> len(participant)\n",
    "4\n",
    "```\n",
    "\n",
    "I hope it makes sense up to now. :) Ready for some more fun with dictionaries? Read on for some amazing things.\n",
    "\n",
    "You can use the pop() method to delete an item in the dictionary. Say, if you want to delete the entry corresponding to the key 'favorite_numbers', just type in the following command:\n",
    "\n",
    "```\n",
    ">>> participant.pop('favorite_numbers')\n",
    "[7, 42, 92]\n",
    ">>> participant\n",
    "{'country': 'Poland', 'favorite_language': 'Python', 'name': 'Ola'}```\n",
    "\n",
    "As you can see from the output, the key–value pair corresponding to the 'favorite_numbers' key has been deleted.\n",
    "\n",
    "As well as this, you can also change a value associated with an already-created key in the dictionary. Type this:\n",
    "\n",
    "```\n",
    ">>> participant['country'] = 'Germany'\n",
    ">>> participant\n",
    "{'country': 'Germany', 'favorite_language': 'Python', 'name': 'Ola'}\n",
    "As you can see, the value of the key 'country' has been altered from 'Poland' to 'Germany'. :) Exciting? Hurrah! You just learned another amazing thing.\n",
    "```"
   ]
  },
  {
   "cell_type": "markdown",
   "metadata": {
    "deletable": true,
    "editable": true
   },
   "source": [
    "## Summary\n",
    "\n",
    "Awesome! You know a lot about programming now. In this last part you learned about:\n",
    "\n",
    "- errors – you now know how to read and understand errors that show up if Python doesn't understand a command you've given it\n",
    "- variables – names for objects that allow you to code more easily and to make your code more readable\n",
    "- lists – lists of objects stored in a particular order\n",
    "- dictionaries – objects stored as key–value pairs\n",
    "\n",
    "Excited for the next part? :)"
   ]
  },
  {
   "cell_type": "markdown",
   "metadata": {
    "deletable": true,
    "editable": true
   },
   "source": [
    "## Compare things\n",
    "\n",
    "> This part is covered in the [Python Basics: Comparisons](https://www.youtube.com/watch?v=7bzxqIKYgf4) video.\n",
    "\n",
    "A big part of programming involves comparing things. What's the easiest thing to compare? Numbers, of course. Let's see how that works:\n",
    "\n",
    "```\n",
    ">>> 5 > 2\n",
    "True\n",
    ">>> 3 < 1\n",
    "False\n",
    ">>> 5 > 2 * 2\n",
    "True\n",
    ">>> 1 == 1\n",
    "True\n",
    ">>> 5 != 2\n",
    "True\n",
    "```\n",
    "\n",
    "We gave Python some numbers to compare. As you can see, not only can Python compare numbers, but it can also compare method results. Nice, huh?\n",
    "\n",
    "Do you wonder why we put two equal signs == next to each other to compare if numbers are equal? We use a single = for assigning values to variables. You always, always need to put two of them – == – if you want to check if things are equal to each other. We can also state that things are unequal to each other. For that, we use the symbol !=, as shown in the example above.\n",
    "\n",
    "Give Python two more tasks:\n",
    "\n",
    "```\n",
    ">>> 6 >= 12 / 2\n",
    "True\n",
    ">>> 3 <= 2\n",
    "False\n",
    "```\n",
    "\n",
    "> and < are easy, but what do >= and <= mean? Read them like this:\n",
    "\n",
    "x > y means: x is greater than y\n",
    "x < y means: x is less than y\n",
    "x <= y means: x is less than or equal to y\n",
    "x >= y means: x is greater than or equal to y\n",
    "Awesome! Wanna do one more? Try this:\n",
    "\n",
    "```\n",
    ">>> 6 > 2 and 2 < 3\n",
    "True\n",
    ">>> 3 > 2 and 2 < 1\n",
    "False\n",
    ">>> 3 > 2 or 2 < 1\n",
    "True\n",
    "```\n",
    "\n",
    "You can give Python as many numbers to compare as you want, and it will give you an answer! Pretty smart, right?\n",
    "\n",
    "- and – if you use the and operator, both comparisons have to be True in order for the whole command to be True\n",
    "- or – if you use the or operator, only one of the comparisons has to be True in order for the whole command to be True\n",
    "- Have you heard of the expression \"comparing apples to oranges\"? Let's try the Python equivalent:\n",
    "\n",
    "```\n",
    ">>> 1 > 'django'\n",
    "Traceback (most recent call last):\n",
    "  File \"<stdin>\", line 1, in <module>\n",
    "TypeError: unorderable types: int() > str()\n",
    "```\n",
    "\n",
    "Here you see that just like in the expression, Python is not able to compare a number (int) and a string (str). Instead, it shows a TypeError and tells us the two types can't be compared together."
   ]
  },
  {
   "cell_type": "markdown",
   "metadata": {
    "deletable": true,
    "editable": true
   },
   "source": [
    "## Boolean\n",
    "\n",
    "Incidentally, you just learned about a new type of object in Python. It's called Boolean, and it is probably the easiest type there is.\n",
    "\n",
    "There are only two Boolean objects:\n",
    "\n",
    "- True\n",
    "- False\n",
    "\n",
    "But for Python to understand this, you need to always write it as 'True' (first letter uppercase, with the rest of the letters lowercased). true, TRUE, and tRUE won't work – only True is correct. (The same applies to 'False' as well, of course.)\n",
    "\n",
    "Booleans can be variables, too! See here:\n",
    "\n",
    "```\n",
    ">>> a = True\n",
    ">>> a\n",
    "True\n",
    "```\n",
    "\n",
    "You can also do it this way:\n",
    "\n",
    "```\n",
    ">>> a = 2 > 5\n",
    ">>> a\n",
    "False\n",
    "```\n",
    "\n",
    "Practice and have fun with Booleans by trying to run the following commands:\n",
    "\n",
    "True and True\n",
    "False and True\n",
    "True or 1 == 1\n",
    "1 != 2\n",
    "\n",
    "Congrats! Booleans are one of the coolest features in programming, and you just learned how to use them!"
   ]
  },
  {
   "cell_type": "markdown",
   "metadata": {
    "deletable": true,
    "editable": true
   },
   "source": [
    "## If … elif … else\n",
    "\n",
    "Lots of things in code should be executed only when given conditions are met. That's why Python has something called if statements.\n",
    "\n",
    "```\n",
    "if 3 > 2:\n",
    "SyntaxError: unexpected EOF while parsing\n",
    "``` \n",
    "\n",
    "Python expects us to give further instructions to it which are executed if the condition 3 > 2 turns out to be true (or True for that matter). Let’s try to make Python print “It works!”. Change your code in your python_intro.py file to this:\n",
    "\n",
    "``` \n",
    "if 3 > 2:\n",
    "    print('It works!')\n",
    "``` \n",
    "\n",
    "Notice how we've indented the next line of code by 4 spaces? We need to do this so Python knows what code to run if the result is true. You can do one space, but nearly all Python programmers do 4 to make things look neat. A single tab will also count as 4 spaces.\n",
    "\n",
    "\n",
    "### What if a condition isn't True?\n",
    "\n",
    "In previous examples, code was executed only when the conditions were True. But Python also has elif and else statements:\n",
    "\n",
    "``` \n",
    "if 5 > 2:\n",
    "    print('5 is indeed greater than 2')\n",
    "else:\n",
    "    print('5 is not greater than 2')\n",
    "``` \n",
    "\n",
    "When this is run it will print out:\n",
    "\n",
    "``` \n",
    "5 is indeed greater than 2\n",
    "``` \n",
    "\n",
    "If 2 were a greater number than 5, then the second command would be executed. Easy, right? Let's see how elif works:\n",
    "\n",
    "``` \n",
    "name = 'Sonja'\n",
    "if name == 'Ola':\n",
    "    print('Hey Ola!')\n",
    "elif name == 'Sonja':\n",
    "    print('Hey Sonja!')\n",
    "else:\n",
    "    print('Hey anonymous!')\n",
    "Hey Sonja!\n",
    "``` \n",
    "\n",
    "See what happened there? elif lets you add extra conditions that run if the previous conditions fail.\n",
    "\n",
    "You can add as many elif statements as you like after your initial if statement. For example:\n",
    "\n",
    "``` \n",
    "volume = 57\n",
    "if volume < 20:\n",
    "    print(\"It's kinda quiet.\")\n",
    "elif 20 <= volume < 40:\n",
    "    print(\"It's nice for background music\")\n",
    "elif 40 <= volume < 60:\n",
    "    print(\"Perfect, I can hear all the details\")\n",
    "elif 60 <= volume < 80:\n",
    "    print(\"Nice for parties\")\n",
    "elif 80 <= volume < 100:\n",
    "    print(\"A bit loud!\")\n",
    "else:\n",
    "    print(\"My ears are hurting! :(\")\n",
    "``` \n",
    "\n",
    "Python runs through each test in sequence and prints:\n",
    "\n",
    "``` \n",
    "Perfect, I can hear all the details\n",
    "``` "
   ]
  },
  {
   "cell_type": "markdown",
   "metadata": {
    "deletable": true,
    "editable": true
   },
   "source": [
    "## Comments\n",
    "\n",
    "Comments are lines beginning with #. You can write whatever you want after the # and Python will ignore it. Comments can make your code easier for other people to understand.\n",
    "\n",
    "Let's see how that looks:\n",
    "\n",
    "``` # Change the volume if it's too loud or too quiet\n",
    "if volume < 20 or volume > 80:\n",
    "    volume = 50\n",
    "    print(\"That's better!\")\n",
    "```\n",
    "\n",
    "You don't need to write a comment for every line of code, but they are useful for explaining why your code is doing something, or providing a summary when it's doing something complex."
   ]
  },
  {
   "cell_type": "markdown",
   "metadata": {
    "deletable": true,
    "editable": true
   },
   "source": [
    "## Summary\n",
    "\n",
    "In the last few exercises you learned about:\n",
    "\n",
    "- comparing things – in Python you can compare things by using >, >=, ==, <=, < and the and, or operators\n",
    "- Boolean – a type of object that can only have one of two values: True or False\n",
    "- Saving files – storing code in files so you can execute larger programs.\n",
    "- Using jupyter notebook\n",
    "- if … elif … else – statements that allow you to execute code only when certain conditions are met.\n",
    "- comments - lines that Python won't run which let you document your code\n",
    "\n",
    "Time for the last part of this chapter!"
   ]
  },
  {
   "cell_type": "markdown",
   "metadata": {
    "deletable": true,
    "editable": true
   },
   "source": [
    "## Your own functions!\n",
    "\n",
    "For readers at home: this part is covered in the Python Basics: Functions video.\n",
    "\n",
    "Remember functions like len() that you can execute in Python? Well, good news – you will learn how to write your own functions now!\n",
    "\n",
    "A function is a sequence of instructions that Python should execute. Each function in Python starts with the keyword def, is given a name, and can have some parameters. Let's start with an easy one. \n",
    "\n",
    "```\n",
    "def hi():\n",
    "    print('Hi there!')\n",
    "    print('How are you?')\n",
    "\n",
    "hi()\n",
    "```\n",
    "\n",
    "Okay, our first function is ready!\n",
    "\n",
    "You may wonder why we've written the name of the function at the bottom of the file. This is because Python reads the file and executes it from top to bottom. So in order to use our function, we have to re-write it at the bottom.\n",
    "\n",
    "Let's run this now and see what happens:\n",
    "\n",
    "```\n",
    "Hi there!\n",
    "How are you?\n",
    "``` \n",
    "\n",
    "Note: if it didn't work, don't panic! The output will help you to figure why:\n",
    "\n",
    "If you get a NameError, that probably means you typed something wrong, so you should check that you used the same name when creating the function with def hi(): and when calling it with hi().\n",
    "If you get an IndentationError, check that both of the print lines have the same whitespace at the start of a line: python wants all the code inside the function to be neatly aligned.\n",
    "If there's no output at all, check that the last hi() isn't indented - if it is, that line will become part of the function too, and it will never get run.\n",
    "Let's build our first function with parameters. We will use the previous example – a function that says 'hi' to the person running it – with a name:\n",
    "\n",
    "```\n",
    "def hi(name):\n",
    "As you can see, we now gave our function a parameter that we called name:\n",
    "\n",
    "```\n",
    "def hi(name):\n",
    "    if name == 'Ola':\n",
    "        print('Hi Ola!')\n",
    "    elif name == 'Sonja':\n",
    "        print('Hi Sonja!')\n",
    "    else:\n",
    "        print('Hi anonymous!')\n",
    "\n",
    "hi()\n",
    "```\n",
    "\n",
    "Remember: The print function is indented four spaces within the if statement. This is because the function runs when the condition is met. Let's see how it works now:\n",
    "\n",
    "```\n",
    "Traceback (most recent call last):\n",
    "File \"python_intro.py\", line 10, in <module>\n",
    "  hi()\n",
    "TypeError: hi() missing 1 required positional argument: 'name'\n",
    "```\n",
    "\n",
    "Oops, an error. Luckily, Python gives us a pretty useful error message. It tells us that the function hi() (the one we defined) has one required argument (called name) and that we forgot to pass it when calling the function. Let's fix it at the bottom of the file:\n",
    "\n",
    "```hi(\"Ola\")```\n",
    "\n",
    "And run it again:\n",
    "\n",
    "```Hi Ola!```\n",
    "\n",
    "And if we change the name?\n",
    "\n",
    "```hi(\"Sonja\")```\n",
    "\n",
    "And run it:\n",
    "\n",
    "```Hi Sonja!```\n",
    "\n",
    "Now, what do you think will happen if you write another name in there? (Not Ola or Sonja.) Give it a try and see if you're right. It should print out this:\n",
    "\n",
    "```Hi anonymous!```\n",
    "\n",
    "This is awesome, right? This way you don't have to repeat yourself every time you want to change the name of the person the function is supposed to greet. And that's exactly why we need functions – you never want to repeat your code!\n",
    "\n",
    "Let's do something smarter – there are more names than two, and writing a condition for each would be hard, right?\n",
    "\n",
    "```\n",
    "def hi(name):\n",
    "    print('Hi ' + name + '!')\n",
    "\n",
    "hi(\"Rachel\")\n",
    "```\n",
    "\n",
    "Let's call the code now:\n",
    "\n",
    "```\n",
    "Hi Rachel!\n",
    "``` \n",
    "\n",
    "Congratulations! You just learned how to write functions! :)"
   ]
  },
  {
   "cell_type": "markdown",
   "metadata": {
    "deletable": true,
    "editable": true
   },
   "source": [
    "## Loops\n",
    "\n",
    "This part is covered in the Python Basics: For Loop video.\n",
    "\n",
    "This is the last part already. That was quick, right? :)\n",
    "\n",
    "Programmers don't like to repeat themselves. Programming is all about automating things, so we don't want to greet every person by their name manually, right? That's where loops come in handy.\n",
    "\n",
    "Still remember lists? Let's do a list of girls:\n",
    "\n",
    "```\n",
    "girls = ['Rachel', 'Monica', 'Phoebe', 'Ola', 'You']\n",
    "```\n",
    "\n",
    "We want to greet all of them by their name. We have the hi function to do that, so let's use it in a loop:\n",
    "\n",
    "```for name in girls: ```\n",
    "\n",
    "The for statement behaves similarly to the if statement; code below both of these need to be indented four spaces.\n",
    "\n",
    "Here is the full code that will be in the file:\n",
    "\n",
    "```\n",
    "def hi(name):\n",
    "    print('Hi ' + name + '!')\n",
    "\n",
    "girls = ['Rachel', 'Monica', 'Phoebe', 'Ola', 'You']\n",
    "for name in girls:\n",
    "    hi(name)\n",
    "    print('Next girl')\n",
    "```\n",
    "\n",
    "And when we run it:\n",
    "\n",
    "```\n",
    "Hi Rachel!\n",
    "Next girl\n",
    "Hi Monica!\n",
    "Next girl\n",
    "Hi Phoebe!\n",
    "Next girl\n",
    "Hi Ola!\n",
    "Next girl\n",
    "Hi You!\n",
    "Next girl\n",
    "```\n",
    "\n",
    "As you can see, everything you put inside a for statement with an indent will be repeated for every element of the list girls.\n",
    "\n",
    "You can also use for on numbers using the range function:\n",
    "\n",
    "```\n",
    "for i in range(1, 6):\n",
    "    print(i)\n",
    "```\n",
    "\n",
    "Which would print:\n",
    "\n",
    "```\n",
    "1\n",
    "2\n",
    "3\n",
    "4\n",
    "5\n",
    "```\n",
    "\n",
    "Range is a function that creates a list of numbers following one after the other (these numbers are provided by you as parameters).\n",
    "\n",
    "Note that the second of these two numbers is not included in the list that is output by Python (meaning range(1, 6) counts from 1 to 5, but does not include the number 6). That is because \"range\" is half-open, and by that we mean it includes the first value, but not the last."
   ]
  },
  {
   "cell_type": "markdown",
   "metadata": {
    "deletable": true,
    "editable": true
   },
   "source": [
    "## Summary\n",
    "\n",
    "That's it. You totally rock! This was a tricky chapter, so you should feel proud of yourself. We're definitely proud of you for making it this far!\n",
    "\n",
    "You might want to briefly do something else – stretch, walk around for a bit, rest your eyes – before going on to the next chapter. :)"
   ]
  },
  {
   "cell_type": "code",
   "execution_count": 32,
   "metadata": {
    "collapsed": false,
    "deletable": true,
    "editable": true
   },
   "outputs": [
    {
     "data": {
      "text/html": [
       "<img src=\"static/anna.gif\"/>"
      ],
      "text/plain": [
       "<IPython.core.display.Image object>"
      ]
     },
     "metadata": {},
     "output_type": "display_data"
    }
   ],
   "source": [
    "display(Image(url='static/anna.gif'), width=50)"
   ]
  }
 ],
 "metadata": {
  "kernelspec": {
   "display_name": "Python 3",
   "language": "python",
   "name": "python3"
  },
  "language_info": {
   "codemirror_mode": {
    "name": "ipython",
    "version": 3
   },
   "file_extension": ".py",
   "mimetype": "text/x-python",
   "name": "python",
   "nbconvert_exporter": "python",
   "pygments_lexer": "ipython3",
   "version": "3.5.2"
  }
 },
 "nbformat": 4,
 "nbformat_minor": 0
}
