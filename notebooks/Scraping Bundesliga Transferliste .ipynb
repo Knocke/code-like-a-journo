{
 "cells": [
  {
   "cell_type": "code",
   "execution_count": 206,
   "metadata": {
    "collapsed": true
   },
   "outputs": [],
   "source": [
    "import requests \n",
    "from bs4 import BeautifulSoup\n",
    "import pandas as pd\n",
    "import re"
   ]
  },
  {
   "cell_type": "code",
   "execution_count": 207,
   "metadata": {
    "collapsed": false
   },
   "outputs": [],
   "source": [
    "r = requests.get(\"http://www.bundesliga.de/de/liga/transferboerse/\")\n",
    "soup = BeautifulSoup(r.text, 'lxml')"
   ]
  },
  {
   "cell_type": "code",
   "execution_count": 208,
   "metadata": {
    "collapsed": true
   },
   "outputs": [],
   "source": [
    "verein = []\n",
    "data = []\n",
    "zugänge = []\n",
    "abgänge = []"
   ]
  },
  {
   "cell_type": "code",
   "execution_count": 209,
   "metadata": {
    "collapsed": false
   },
   "outputs": [],
   "source": [
    "for h2 in soup.find_all('h2'):\n",
    "    verein.append(h2.text)"
   ]
  },
  {
   "cell_type": "code",
   "execution_count": 210,
   "metadata": {
    "collapsed": false
   },
   "outputs": [
    {
     "data": {
      "text/plain": [
       "['FC Bayern München',\n",
       " 'RB Leipzig',\n",
       " 'Borussia Dortmund',\n",
       " 'TSG 1899 Hoffenheim',\n",
       " '1. FC Köln',\n",
       " 'Hertha BSC',\n",
       " 'SC Freiburg',\n",
       " 'SV Werder Bremen',\n",
       " 'Borussia Mönchengladbach',\n",
       " 'FC Schalke 04 ',\n",
       " 'Eintracht Frankfurt',\n",
       " 'Bayer 04 Leverkusen',\n",
       " 'FC Augsburg',\n",
       " 'Hamburger SV',\n",
       " '1. FSV Mainz 05',\n",
       " 'VfL Wolfsburg ',\n",
       " 'FC Ingolstadt 04',\n",
       " 'SV Darmstadt 98']"
      ]
     },
     "execution_count": 210,
     "metadata": {},
     "output_type": "execute_result"
    }
   ],
   "source": [
    "verein"
   ]
  },
  {
   "cell_type": "code",
   "execution_count": 211,
   "metadata": {
    "collapsed": false
   },
   "outputs": [],
   "source": [
    "for p in soup.find_all('p'):\n",
    "    data.append(p.text)"
   ]
  },
  {
   "cell_type": "code",
   "execution_count": 212,
   "metadata": {
    "collapsed": false
   },
   "outputs": [],
   "source": [
    "for x in data: \n",
    "    if re.search(r'Zugänge:', x):\n",
    "        zugänge.append(x)"
   ]
  },
  {
   "cell_type": "code",
   "execution_count": 213,
   "metadata": {
    "collapsed": true
   },
   "outputs": [],
   "source": [
    "for y in data:\n",
    "    if re.search(r'Abgänge:', y):\n",
    "        abgänge.append(y)"
   ]
  },
  {
   "cell_type": "code",
   "execution_count": 214,
   "metadata": {
    "collapsed": false
   },
   "outputs": [],
   "source": [
    "columns = {'verein': verein, 'zugänge': zugänge, 'abgänge': abgänge}"
   ]
  },
  {
   "cell_type": "code",
   "execution_count": 215,
   "metadata": {
    "collapsed": false
   },
   "outputs": [],
   "source": [
    "df = pd.DataFrame(columns)"
   ]
  },
  {
   "cell_type": "code",
   "execution_count": 216,
   "metadata": {
    "collapsed": false
   },
   "outputs": [],
   "source": [
    "df['abgänge'] = df['abgänge'].str.split('Abgänge: ').str.get(1)\n",
    "df['zugänge'] = df['zugänge'].str.split('Zugänge: ').str.get(1)"
   ]
  },
  {
   "cell_type": "code",
   "execution_count": 217,
   "metadata": {
    "collapsed": false
   },
   "outputs": [
    {
     "data": {
      "text/html": [
       "<div>\n",
       "<table border=\"1\" class=\"dataframe\">\n",
       "  <thead>\n",
       "    <tr style=\"text-align: right;\">\n",
       "      <th></th>\n",
       "      <th>abgänge</th>\n",
       "      <th>verein</th>\n",
       "      <th>zugänge</th>\n",
       "    </tr>\n",
       "  </thead>\n",
       "  <tbody>\n",
       "    <tr>\n",
       "      <th>0</th>\n",
       "      <td>Mehdi Benatia (Juventus Turin), Holger Badstub...</td>\n",
       "      <td>FC Bayern München</td>\n",
       "      <td>Niklas Süle, Sebastian Rudy (beide TSG 1899 Ho...</td>\n",
       "    </tr>\n",
       "    <tr>\n",
       "      <th>1</th>\n",
       "      <td>Rani Khedira (Ziel unbekannt),</td>\n",
       "      <td>RB Leipzig</td>\n",
       "      <td>Yann Mvogo (BSC Young Boys Bern), Philipp Köhn...</td>\n",
       "    </tr>\n",
       "    <tr>\n",
       "      <th>2</th>\n",
       "      <td>Adrian Ramos (Chongqing Dangdai Lifan FC, zule...</td>\n",
       "      <td>Borussia Dortmund</td>\n",
       "      <td>Ömer Toprak (Bayer 04 Leverkusen), Mahmoud Dah...</td>\n",
       "    </tr>\n",
       "    <tr>\n",
       "      <th>3</th>\n",
       "      <td>Niklas Süle, Sebastian Rudy (beide FC Bayern M...</td>\n",
       "      <td>TSG 1899 Hoffenheim</td>\n",
       "      <td>Florian Grillitsch (SV Werder Bremen)</td>\n",
       "    </tr>\n",
       "    <tr>\n",
       "      <th>4</th>\n",
       "      <td>Marcel Hartel (Union Berlin), Neven Subotic (B...</td>\n",
       "      <td>1. FC Köln</td>\n",
       "      <td></td>\n",
       "    </tr>\n",
       "    <tr>\n",
       "      <th>5</th>\n",
       "      <td>Allan (FC Liverpool), Sami Allagui (FC St.Paul...</td>\n",
       "      <td>Hertha BSC</td>\n",
       "      <td>NaN</td>\n",
       "    </tr>\n",
       "    <tr>\n",
       "      <th>6</th>\n",
       "      <td>Vincenzo Grifo (Borussia Mönchengladbach), Fab...</td>\n",
       "      <td>SC Freiburg</td>\n",
       "      <td>Pascal Stenzel (Borussia Dortmund), Florian Ni...</td>\n",
       "    </tr>\n",
       "    <tr>\n",
       "      <th>7</th>\n",
       "      <td>Florian Grillitsch (1899 Hoffenheim), Clemens ...</td>\n",
       "      <td>SV Werder Bremen</td>\n",
       "      <td>Ludwig Augustinsson (FC Kopenhagen), Jerome Go...</td>\n",
       "    </tr>\n",
       "    <tr>\n",
       "      <th>8</th>\n",
       "      <td>Mahmoud Dahoud (Borussia Dortmund), Andreas Ch...</td>\n",
       "      <td>Borussia Mönchengladbach</td>\n",
       "      <td>Vincenzo Grifo (SC Freiburg), Mickael Cuisance...</td>\n",
       "    </tr>\n",
       "    <tr>\n",
       "      <th>9</th>\n",
       "      <td>Phil Neumann (FC Ingolstadt), Abdul Rahman Bab...</td>\n",
       "      <td>FC Schalke 04</td>\n",
       "      <td>Nabil Bentaleb (Tottenham Hotspurs), Yevhen Ko...</td>\n",
       "    </tr>\n",
       "    <tr>\n",
       "      <th>10</th>\n",
       "      <td>Michael Hector (FC Chelsea), Marius Wolf (Hann...</td>\n",
       "      <td>Eintracht Frankfurt</td>\n",
       "      <td>Sebastien Haller (FC Utrecht)</td>\n",
       "    </tr>\n",
       "    <tr>\n",
       "      <th>11</th>\n",
       "      <td>Ömer Toprak (Borussia Dortmund), Roberto Hilbe...</td>\n",
       "      <td>Bayer 04 Leverkusen</td>\n",
       "      <td>Dominik Kohr (FC Augsburg)</td>\n",
       "    </tr>\n",
       "    <tr>\n",
       "      <th>12</th>\n",
       "      <td>Dominik Kohr (Bayer 04 Leverkusen), Albian Aje...</td>\n",
       "      <td>FC Augsburg</td>\n",
       "      <td></td>\n",
       "    </tr>\n",
       "    <tr>\n",
       "      <th>13</th>\n",
       "      <td>Kyriakos Papadopoulos (Bayer 04 Leverkusen), M...</td>\n",
       "      <td>Hamburger SV</td>\n",
       "      <td></td>\n",
       "    </tr>\n",
       "    <tr>\n",
       "      <th>14</th>\n",
       "      <td>Florian Niederlechner (SC Freiburg), Bojan Krk...</td>\n",
       "      <td>1. FSV Mainz 05</td>\n",
       "      <td></td>\n",
       "    </tr>\n",
       "    <tr>\n",
       "      <th>15</th>\n",
       "      <td>Borja Mayoral (Real Madrid), Philipp Wollschei...</td>\n",
       "      <td>VfL Wolfsburg</td>\n",
       "      <td>Marvin Stefaniak (Dynamo Dresden)</td>\n",
       "    </tr>\n",
       "    <tr>\n",
       "      <th>16</th>\n",
       "      <td>Elias Kachunga (Huddersfield), Roger (Atletico...</td>\n",
       "      <td>FC Ingolstadt 04</td>\n",
       "      <td>Phil Neumann (FC Schalke 04)</td>\n",
       "    </tr>\n",
       "    <tr>\n",
       "      <th>17</th>\n",
       "      <td>Jerome Gondorf (SV Werder Bremen), Sven Schipp...</td>\n",
       "      <td>SV Darmstadt 98</td>\n",
       "      <td>Kevin Großkreutz (Vereinslos), Jamie Maclaren ...</td>\n",
       "    </tr>\n",
       "  </tbody>\n",
       "</table>\n",
       "</div>"
      ],
      "text/plain": [
       "                                              abgänge  \\\n",
       "0   Mehdi Benatia (Juventus Turin), Holger Badstub...   \n",
       "1                     Rani Khedira (Ziel unbekannt),    \n",
       "2   Adrian Ramos (Chongqing Dangdai Lifan FC, zule...   \n",
       "3   Niklas Süle, Sebastian Rudy (beide FC Bayern M...   \n",
       "4   Marcel Hartel (Union Berlin), Neven Subotic (B...   \n",
       "5   Allan (FC Liverpool), Sami Allagui (FC St.Paul...   \n",
       "6   Vincenzo Grifo (Borussia Mönchengladbach), Fab...   \n",
       "7   Florian Grillitsch (1899 Hoffenheim), Clemens ...   \n",
       "8   Mahmoud Dahoud (Borussia Dortmund), Andreas Ch...   \n",
       "9   Phil Neumann (FC Ingolstadt), Abdul Rahman Bab...   \n",
       "10  Michael Hector (FC Chelsea), Marius Wolf (Hann...   \n",
       "11  Ömer Toprak (Borussia Dortmund), Roberto Hilbe...   \n",
       "12  Dominik Kohr (Bayer 04 Leverkusen), Albian Aje...   \n",
       "13  Kyriakos Papadopoulos (Bayer 04 Leverkusen), M...   \n",
       "14  Florian Niederlechner (SC Freiburg), Bojan Krk...   \n",
       "15  Borja Mayoral (Real Madrid), Philipp Wollschei...   \n",
       "16  Elias Kachunga (Huddersfield), Roger (Atletico...   \n",
       "17  Jerome Gondorf (SV Werder Bremen), Sven Schipp...   \n",
       "\n",
       "                      verein  \\\n",
       "0          FC Bayern München   \n",
       "1                 RB Leipzig   \n",
       "2          Borussia Dortmund   \n",
       "3        TSG 1899 Hoffenheim   \n",
       "4                 1. FC Köln   \n",
       "5                 Hertha BSC   \n",
       "6                SC Freiburg   \n",
       "7           SV Werder Bremen   \n",
       "8   Borussia Mönchengladbach   \n",
       "9             FC Schalke 04    \n",
       "10       Eintracht Frankfurt   \n",
       "11       Bayer 04 Leverkusen   \n",
       "12               FC Augsburg   \n",
       "13              Hamburger SV   \n",
       "14           1. FSV Mainz 05   \n",
       "15            VfL Wolfsburg    \n",
       "16          FC Ingolstadt 04   \n",
       "17           SV Darmstadt 98   \n",
       "\n",
       "                                              zugänge  \n",
       "0   Niklas Süle, Sebastian Rudy (beide TSG 1899 Ho...  \n",
       "1   Yann Mvogo (BSC Young Boys Bern), Philipp Köhn...  \n",
       "2   Ömer Toprak (Bayer 04 Leverkusen), Mahmoud Dah...  \n",
       "3               Florian Grillitsch (SV Werder Bremen)  \n",
       "4                                                      \n",
       "5                                                 NaN  \n",
       "6   Pascal Stenzel (Borussia Dortmund), Florian Ni...  \n",
       "7   Ludwig Augustinsson (FC Kopenhagen), Jerome Go...  \n",
       "8   Vincenzo Grifo (SC Freiburg), Mickael Cuisance...  \n",
       "9   Nabil Bentaleb (Tottenham Hotspurs), Yevhen Ko...  \n",
       "10                      Sebastien Haller (FC Utrecht)  \n",
       "11                         Dominik Kohr (FC Augsburg)  \n",
       "12                                                     \n",
       "13                                                     \n",
       "14                                                     \n",
       "15                  Marvin Stefaniak (Dynamo Dresden)  \n",
       "16                       Phil Neumann (FC Schalke 04)  \n",
       "17  Kevin Großkreutz (Vereinslos), Jamie Maclaren ...  "
      ]
     },
     "execution_count": 217,
     "metadata": {},
     "output_type": "execute_result"
    }
   ],
   "source": [
    "df"
   ]
  },
  {
   "cell_type": "code",
   "execution_count": null,
   "metadata": {
    "collapsed": true
   },
   "outputs": [],
   "source": []
  },
  {
   "cell_type": "code",
   "execution_count": null,
   "metadata": {
    "collapsed": true
   },
   "outputs": [],
   "source": []
  }
 ],
 "metadata": {
  "kernelspec": {
   "display_name": "Python 3",
   "language": "python",
   "name": "python3"
  },
  "language_info": {
   "codemirror_mode": {
    "name": "ipython",
    "version": 3
   },
   "file_extension": ".py",
   "mimetype": "text/x-python",
   "name": "python",
   "nbconvert_exporter": "python",
   "pygments_lexer": "ipython3",
   "version": "3.5.2"
  }
 },
 "nbformat": 4,
 "nbformat_minor": 2
}
