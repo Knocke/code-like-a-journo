{
 "cells": [
  {
   "cell_type": "markdown",
   "metadata": {},
   "source": [
    "# Git and Github"
   ]
  },
  {
   "cell_type": "markdown",
   "metadata": {},
   "source": [
    "> https://tutorial.djangogirls.org/en/deploy/"
   ]
  },
  {
   "cell_type": "markdown",
   "metadata": {},
   "source": [
    "Git is a \"version control system\" used by a lot of programmers. This software can track changes to files over time so that you can recall specific versions later. A bit like the \"track changes\" feature in Microsoft Word, but much more powerful."
   ]
  },
  {
   "cell_type": "markdown",
   "metadata": {},
   "source": [
    "GitHub is a platform to share code and to collaborate.  "
   ]
  },
  {
   "cell_type": "markdown",
   "metadata": {},
   "source": [
    "First you will download the code for this tutorial. \n",
    "\n",
    "- Go to GitHub and sign in with your free user account. (If you haven't one already, sign up for one'). \n",
    "- Search for 'code like a journo' - https://github.com/P3nny/code-like-a-journo\n",
    "- click on the green 'Clone or Download'-button and copy the URL: https://github.com/P3nny/code-like-a-journo.git\n",
    "\n",
    "- Start your terminal, change into a directory where you want to store the files from this workshop \n",
    "- Then type 'git clone' and paste the URL: \n",
    "    \n",
    "    ``` git clone https://github.com/P3nny/code-like-a-journo.git ```\n",
    "    \n",
    "This will download all the notebooks, solutions and installation files to your computer.  "
   ]
  },
  {
   "cell_type": "markdown",
   "metadata": {},
   "source": [
    "# You do it \n",
    "Do the same with the great pandas tutorial 'hands-on-analysis-python' by Sarah Guido (sarguido). "
   ]
  },
  {
   "cell_type": "markdown",
   "metadata": {},
   "source": [
    "## Learn to use Git and GitHub for your projects "
   ]
  },
  {
   "cell_type": "markdown",
   "metadata": {},
   "source": [
    "If you want to learn how to use Git and GitHub for your own projects these web app tutorials include them: \n",
    "    \n",
    "    First News App: http://first-news-app.readthedocs.io/en/latest/\n",
    "    \n",
    "    Django Girls: https://tutorial.djangogirls.org/en/"
   ]
  },
  {
   "cell_type": "markdown",
   "metadata": {},
   "source": [
    "If you want to have a quick first look at Git and Github, try this interactive tutorial: \n",
    "\n",
    "    https://try.github.io/"
   ]
  }
 ],
 "metadata": {
  "kernelspec": {
   "display_name": "Python 3",
   "language": "python",
   "name": "python3"
  },
  "language_info": {
   "codemirror_mode": {
    "name": "ipython",
    "version": 3
   },
   "file_extension": ".py",
   "mimetype": "text/x-python",
   "name": "python",
   "nbconvert_exporter": "python",
   "pygments_lexer": "ipython3",
   "version": "3.5.2"
  }
 },
 "nbformat": 4,
 "nbformat_minor": 2
}
