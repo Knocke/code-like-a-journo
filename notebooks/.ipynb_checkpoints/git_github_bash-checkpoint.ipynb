{
 "cells": [
  {
   "cell_type": "markdown",
   "metadata": {},
   "source": [
    "https://tutorial.djangogirls.org/en/deploy/"
   ]
  },
  {
   "cell_type": "markdown",
   "metadata": {},
   "source": [
    "# Git \n",
    "Git is a \"version control system\" used by a lot of programmers. This software can track changes to files over time so that you can recall specific versions later. A bit like the \"track changes\" feature in Microsoft Word, but much more powerful."
   ]
  },
  {
   "cell_type": "code",
   "execution_count": 2,
   "metadata": {
    "collapsed": false
   },
   "outputs": [
    {
     "name": "stdout",
     "output_type": "stream",
     "text": [
      "Installation: Befehl nicht gefunden.\n"
     ]
    },
    {
     "ename": "",
     "evalue": "127",
     "output_type": "error",
     "traceback": []
    }
   ],
   "source": []
  },
  {
   "cell_type": "markdown",
   "metadata": {},
   "source": [
    "Starting our Git repository\n",
    "\n",
    "Git tracks changes to a particular set of files in what's called a code repository (or \"repo\" for short). Let's start one for our project. Open up your console and run these commands, in the djangogirls directory:\n",
    "\n",
    "Note Check your current working directory with a pwd (Mac OS X/Linux) or cd (Windows) command before initializing the repository. You should be in the djangogirls folder.\n",
    "\n",
    "command-line\n",
    "$ git init\n",
    "Initialized empty Git repository in ~/djangogirls/.git/\n",
    "$ git config --global user.name \"Your Name\"\n",
    "$ git config --global user.email you@example.com\n",
    "Initializing the git repository is something we need to do only once per project (and you won't have to re-enter the username and email ever again).\n",
    "\n",
    "Git will track changes to all the files and folders in this directory, but there are some files we want it to ignore. We do this by creating a file called .gitignore in the base directory. Open up your editor and create a new file with the following contents:\n",
    "\n",
    ".gitignore\n",
    "*.pyc\n",
    "*~\n",
    "__pycache__\n",
    "myvenv\n",
    "db.sqlite3\n",
    "/static\n",
    ".DS_Store\n",
    "And save it as .gitignore in the \"djangogirls\" folder.\n",
    "\n",
    "Note The dot at the beginning of the file name is important! If you're having any difficulty creating it (Macs don't like you to create files that begin with a dot via the Finder, for example), then use the \"Save As\" feature in your editor; it's bulletproof.\n",
    "\n",
    "Note One of the files you specified in your .gitignore file is db.sqlite3. That file is your local database, where all of your posts are stored. We don't want to add this to your repository because your website on PythonAnywhere is going to be using a different database. That database could be SQLite, like your development machine, but usually you will use one called MySQL which can deal with a lot more site visitors than SQLite. Either way, by ignoring your SQLite database for the GitHub copy, it means that all of the posts you created so far are going to stay and only be available locally, but you're going to have to add them again on production. You should think of your local database as a good playground where you can test different things and not be afraid that you're going to delete your real posts from your blog.\n",
    "\n",
    "It's a good idea to use a git status command before git add or whenever you find yourself unsure of what has changed. This will help prevent any surprises from happening, such as wrong files being added or committed. The git status command returns information about any untracked/modified/staged files, the branch status, and much more. The output should be similar to the following:\n",
    "\n",
    "command-line\n",
    "$ git status\n",
    "On branch master\n",
    "\n",
    "Initial commit\n",
    "\n",
    "Untracked files:\n",
    "  (use \"git add <file>...\" to include in what will be committed)\n",
    "\n",
    "        .gitignore\n",
    "        blog/\n",
    "        manage.py\n",
    "        mysite/\n",
    "\n",
    "nothing added to commit but untracked files present (use \"git add\" to track)\n",
    "And finally we save our changes. Go to your console and run these commands:\n",
    "\n",
    "command-line\n",
    "$ git add --all .\n",
    "$ git commit -m \"My Django Girls app, first commit\"\n",
    " [...]\n",
    " 13 files changed, 200 insertions(+)\n",
    " create mode 100644 .gitignore\n",
    " [...]\n",
    " create mode 100644 mysite/wsgi.py\n",
    "Pushing your code to GitHub\n",
    "\n",
    "Go to GitHub.com and sign up for a new, free user account. (If you already did that in the workshop prep, that is great!)\n",
    "\n",
    "Then, create a new repository, giving it the name \"my-first-blog\". Leave the \"initialize with a README\" checkbox unchecked, leave the .gitignore option blank (we've done that manually) and leave the License as None.\n",
    "\n",
    "\n",
    "\n",
    "Note The name my-first-blog is important – you could choose something else, but it's going to occur lots of times in the instructions below, and you'd have to substitute it each time. It's probably easier to just stick with the name my-first-blog.\n",
    "\n",
    "On the next screen, you'll be shown your repo's clone URL. Choose the \"HTTPS\" version, copy it, and we'll paste it into the terminal shortly:\n",
    "\n",
    "\n",
    "\n",
    "Now we need to hook up the Git repository on your computer to the one up on GitHub.\n",
    "\n",
    "Type the following into your console (Replace <your-github-username> with the username you entered when you created your GitHub account, but without the angle-brackets):\n",
    "\n",
    "command-line\n",
    "$ git remote add origin https://github.com/<your-github-username>/my-first-blog.git\n",
    "$ git push -u origin master\n",
    "Enter your GitHub username and password and you should see something like this:\n",
    "\n",
    "command-line\n",
    "Username for 'https://github.com': hjwp\n",
    "Password for 'https://hjwp@github.com':\n",
    "Counting objects: 6, done.\n",
    "Writing objects: 100% (6/6), 200 bytes | 0 bytes/s, done.\n",
    "Total 3 (delta 0), reused 0 (delta 0)\n",
    "To https://github.com/hjwp/my-first-blog.git\n",
    " * [new branch]      master -> master\n",
    "Branch master set up to track remote branch master from origin.\n",
    "Your code is now on GitHub. Go and check it out! You'll find it's in fine company – Django, the Django Girls Tutorial, and many other great open source software projects also host their code on GitHub. :)\n",
    "\n"
   ]
  },
  {
   "cell_type": "code",
   "execution_count": null,
   "metadata": {
    "collapsed": true
   },
   "outputs": [],
   "source": []
  }
 ],
 "metadata": {
  "kernelspec": {
   "display_name": "Bash",
   "language": "bash",
   "name": "bash"
  },
  "language_info": {
   "codemirror_mode": "shell",
   "file_extension": ".sh",
   "mimetype": "text/x-sh",
   "name": "bash"
  }
 },
 "nbformat": 4,
 "nbformat_minor": 2
}
