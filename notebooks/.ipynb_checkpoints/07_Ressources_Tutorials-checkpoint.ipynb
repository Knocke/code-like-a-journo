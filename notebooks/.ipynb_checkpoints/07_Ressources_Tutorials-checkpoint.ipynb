{
 "cells": [
  {
   "cell_type": "markdown",
   "metadata": {},
   "source": [
    "# Want to learn more? \n",
    "\n",
    "![](static/cat.gif)"
   ]
  },
  {
   "cell_type": "markdown",
   "metadata": {
    "deletable": true,
    "editable": true
   },
   "source": [
    "## Pandas \n",
    "- [Sarah Guido - Hands on analysis python](https://github.com/sarguido/hands-on-analysis-python)\n",
    "- [Brandon Rhodes - Pycon pandas tutorial](https://github.com/brandon-rhodes/pycon-pandas-tutorial)\n",
    "- [Pandas at Datacamp](https://campus.datacamp.com/courses/pandas-foundations/)"
   ]
  },
  {
   "cell_type": "markdown",
   "metadata": {},
   "source": [
    "## Introduction to webapps \n",
    "- [First news app](http://first-news-app.readthedocs.io/en/latest/)\n",
    "- [Danjo Girls - good for boys, too]()"
   ]
  },
  {
   "cell_type": "markdown",
   "metadata": {
    "collapsed": true,
    "deletable": true,
    "editable": true
   },
   "source": [
    " ## Code snippets for data analysis\n",
    " - https://chrisalbon.com/\n",
    " - http://www.worthandlung.de/pandas/Folium_Map_with_Circle_Markers_from_Pandas_DataFrame.html"
   ]
  },
  {
   "cell_type": "markdown",
   "metadata": {
    "deletable": true,
    "editable": true
   },
   "source": [
    "## Online-Codeschools\n",
    "\n",
    "- https://de.udacity.com/\n",
    "- https://www.coursera.org/\n",
    "- https://www.codeschool.com/\n",
    "- https://teamtreehouse.com/"
   ]
  },
  {
   "cell_type": "markdown",
   "metadata": {
    "deletable": true,
    "editable": true
   },
   "source": [
    "## Books\n",
    "- https://automatetheboringstuff.com/\n",
    "- http://shop.oreilly.com/product/0636920034391.do?sortby=bestSellers\n",
    "- http://datascienceatthecommandline.com/\n",
    "    "
   ]
  },
  {
   "cell_type": "markdown",
   "metadata": {
    "deletable": true,
    "editable": true
   },
   "source": [
    "## Always useful and fun \n",
    "\n",
    "- [Regex](https://regexone.com/)"
   ]
  },
  {
   "cell_type": "markdown",
   "metadata": {
    "deletable": true,
    "editable": true
   },
   "source": [
    "## Python without admin rights: WinPython \n",
    "WinPython is a portable distribution of the Python programming language for Windows (http://winpython.github.io).\n",
    "\n",
    "https://sourceforge.net/projects/winpython/files/WinPython_3.5/3.5.3.1/"
   ]
  },
  {
   "cell_type": "code",
   "execution_count": null,
   "metadata": {
    "collapsed": true,
    "deletable": true,
    "editable": true
   },
   "outputs": [],
   "source": []
  }
 ],
 "metadata": {
  "kernelspec": {
   "display_name": "Python 3",
   "language": "python",
   "name": "python3"
  },
  "language_info": {
   "codemirror_mode": {
    "name": "ipython",
    "version": 3
   },
   "file_extension": ".py",
   "mimetype": "text/x-python",
   "name": "python",
   "nbconvert_exporter": "python",
   "pygments_lexer": "ipython3",
   "version": "3.5.2"
  }
 },
 "nbformat": 4,
 "nbformat_minor": 2
}
