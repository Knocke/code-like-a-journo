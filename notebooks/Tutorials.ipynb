{
 "cells": [
  {
   "cell_type": "markdown",
   "metadata": {
    "deletable": true,
    "editable": true
   },
   "source": [
    "- [Regex](https://regexone.com/)"
   ]
  },
  {
   "cell_type": "markdown",
   "metadata": {
    "deletable": true,
    "editable": true
   },
   "source": [
    "WinPython \n",
    "\n",
    "https://sourceforge.net/projects/winpython/files/WinPython_3.5/3.5.3.1/"
   ]
  },
  {
   "cell_type": "markdown",
   "metadata": {
    "deletable": true,
    "editable": true
   },
   "source": [
    "- [First news app](http://first-news-app.readthedocs.io/en/latest/)\n",
    "- [Sarah Guido - Hands on analysis python](https://github.com/sarguido/hands-on-analysis-python)\n",
    "- [Brandon Rhodes - Pycon pandas tutorial](https://github.com/brandon-rhodes/pycon-pandas-tutorial)\n",
    "- "
   ]
  },
  {
   "cell_type": "markdown",
   "metadata": {
    "collapsed": true,
    "deletable": true,
    "editable": true
   },
   "source": [
    "- Nitrat \n",
    "- Vornamen - Rocket Girls  \n",
    "- http://www.worthandlung.de/pandas/Folium_Map_with_Circle_Markers_from_Pandas_DataFrame.html"
   ]
  },
  {
   "cell_type": "markdown",
   "metadata": {
    "deletable": true,
    "editable": true
   },
   "source": [
    "## Online-Codeschools\n",
    "\n",
    "- https://de.udacity.com/\n",
    "- https://www.coursera.org/\n",
    "- https://www.codeschool.com/\n",
    "- https://teamtreehouse.com/"
   ]
  },
  {
   "cell_type": "markdown",
   "metadata": {
    "deletable": true,
    "editable": true
   },
   "source": [
    "## Books\n",
    "- https://automatetheboringstuff.com/\n",
    "- http://shop.oreilly.com/product/0636920034391.do?sortby=bestSellers\n",
    "- http://datascienceatthecommandline.com/\n",
    "    "
   ]
  },
  {
   "cell_type": "markdown",
   "metadata": {
    "collapsed": true,
    "deletable": true,
    "editable": true
   },
   "source": [
    "https://campus.datacamp.com/courses/pandas-foundations/"
   ]
  },
  {
   "cell_type": "code",
   "execution_count": null,
   "metadata": {
    "collapsed": true,
    "deletable": true,
    "editable": true
   },
   "outputs": [],
   "source": []
  }
 ],
 "metadata": {
  "kernelspec": {
   "display_name": "Python 3",
   "language": "python",
   "name": "python3"
  },
  "language_info": {
   "codemirror_mode": {
    "name": "ipython",
    "version": 3
   },
   "file_extension": ".py",
   "mimetype": "text/x-python",
   "name": "python",
   "nbconvert_exporter": "python",
   "pygments_lexer": "ipython3",
   "version": "3.5.2"
  }
 },
 "nbformat": 4,
 "nbformat_minor": 2
}
