{
 "cells": [
  {
   "cell_type": "markdown",
   "metadata": {
    "deletable": true,
    "editable": true
   },
   "source": [
    "# How to do your own 'you draw it' \n",
    "\n",
    "We at  [WDR-data](https://github.com/wdr-data/) redid this new york times interactive: [You draw it](https://www.nytimes.com/interactive/2017/01/15/us/politics/you-draw-obama-legacy.html?_r=0) for northrhine-westfalia: \n",
    "\n",
    "http://data.wdr.de/wdr/nachrichten/landespolitik/landtagswahl/was-schaetzen-sie/\n",
    "\n",
    "The new york times put the code on github, to be used open source. \n",
    "So did we with our version of the code: \n",
    "\n",
    "https://github.com/wdr-data/you-draw-it\n",
    "\n",
    "The idea is that especially public broadcasters are doing well in making their developments open source as public broadcasting itself is paid by the public.\n",
    "\n",
    "For example our version was used by the local newspaper Rheinische Post for their own version: \n",
    "\n",
    "https://interaktiv.rp-online.de/landestagswahlnrw17/nrw-tippen-landtagswahl"
   ]
  },
  {
   "cell_type": "markdown",
   "metadata": {
    "deletable": true,
    "editable": true
   },
   "source": [
    "## Here's how to do your own 'you draw it\n",
    "\n",
    "### Overview: \n",
    "- install node.js\n",
    "- clone the github repo \n",
    "- run it \n",
    "- make your changes \n",
    "- deploy your changes on netlify "
   ]
  },
  {
   "cell_type": "markdown",
   "metadata": {
    "deletable": true,
    "editable": true
   },
   "source": [
    "### Install node.js \n",
    "\n",
    "Download the right package for your operation system here: \n",
    "https://nodejs.org/en/download/\n",
    "\n",
    "Install it. \n",
    "Then test the installation by running: \n",
    "\n",
    "```\n",
    "$ node \n",
    "\n",
    "> console.log('Hello World')\n",
    "> .exit()\n",
    "\n",
    "```"
   ]
  },
  {
   "cell_type": "markdown",
   "metadata": {
    "deletable": true,
    "editable": true
   },
   "source": [
    "### Clone the repo \n",
    "\n",
    "- Go to https://github.com/wdr-data/you-draw-it\n",
    "- Take the link from 'Clone or download' and run \n",
    "\n",
    "``` git clone https://github.com/wdr-data/you-draw-it.git' ```\n",
    "\n",
    "- cd into the directory "
   ]
  },
  {
   "cell_type": "markdown",
   "metadata": {
    "deletable": true,
    "editable": true
   },
   "source": [
    "### Installing dependencies \n",
    "\n",
    "\n",
    "- Bower \n",
    "```npm install -g bower```\n",
    "\n",
    "- Gulp \n",
    "```npm install -g gulp```\n",
    "\n",
    "- Build-Tools \n",
    "```npm install``` (im Projektverzeichnis)\n",
    "\n",
    "- Frontend-Libs \n",
    "```bower install``` (im Projektverzeichnis)\n",
    "\n",
    " "
   ]
  },
  {
   "cell_type": "markdown",
   "metadata": {
    "deletable": true,
    "editable": true
   },
   "source": [
    "### Run it locally \n",
    "- ``` gulp serve ```"
   ]
  },
  {
   "cell_type": "markdown",
   "metadata": {
    "deletable": true,
    "editable": true
   },
   "source": [
    "### Make a build \n",
    "\n",
    "Live-Build unter build/\n",
    "\n",
    "- ``` gulp build ```"
   ]
  },
  {
   "cell_type": "markdown",
   "metadata": {
    "deletable": true,
    "editable": true
   },
   "source": [
    "### If you want do deploy it on netlify \n",
    "\n",
    "- Fork the repo \n",
    "- install dependencies \n",
    "- change data, it is stored in the yaml files under /data\n",
    "- make changes to the index.html (Change headlines, sources, credits)\n",
    "- if you want make some css changes \n",
    "- make a netlify account \n",
    "- make a new netlify site\n",
    "- connect repo to netlify site \n",
    "- netlify makes a new build for every git push "
   ]
  },
  {
   "cell_type": "code",
   "execution_count": null,
   "metadata": {
    "collapsed": true,
    "deletable": true,
    "editable": true
   },
   "outputs": [],
   "source": []
  }
 ],
 "metadata": {
  "kernelspec": {
   "display_name": "Python 3",
   "language": "python",
   "name": "python3"
  },
  "language_info": {
   "codemirror_mode": {
    "name": "ipython",
    "version": 3
   },
   "file_extension": ".py",
   "mimetype": "text/x-python",
   "name": "python",
   "nbconvert_exporter": "python",
   "pygments_lexer": "ipython3",
   "version": "3.5.2"
  }
 },
 "nbformat": 4,
 "nbformat_minor": 2
}
